{
 "cells": [
  {
   "cell_type": "markdown",
   "id": "8a53c4db-3e8f-4276-a020-7da890102fae",
   "metadata": {},
   "source": [
    "## Dataframes\n",
    "\n",
    "### Reading the Dataset\n",
    "### Checking the schema of the data\n",
    "### Selecting columns and indexing\n",
    "### Adding columns and Dropping columns\n",
    "### Handling missing values\n",
    "### Filter operations\n",
    "### Group by and Aggregate operations"
   ]
  },
  {
   "cell_type": "code",
   "execution_count": 143,
   "id": "2232003b-7d2a-4cb7-8cfd-2b4fe8b6a028",
   "metadata": {},
   "outputs": [],
   "source": [
    "from pyspark.sql import SparkSession\n",
    "from pyspark.sql.functions import monotonically_increasing_id, mean, to_date, col, to_timestamp\n",
    "#from pyspark.ml.feature import Imputer\n"
   ]
  },
  {
   "cell_type": "code",
   "execution_count": 52,
   "id": "515c5c75-2d63-4479-bd8e-fd9f831b13cb",
   "metadata": {},
   "outputs": [],
   "source": [
    "spark = SparkSession.builder\\\n",
    ".appName(\"Pyspark-DF\")\\\n",
    ".getOrCreate()"
   ]
  },
  {
   "cell_type": "code",
   "execution_count": 53,
   "id": "bcc4cbd6-6dd2-4955-bd26-9379c8584cb2",
   "metadata": {},
   "outputs": [
    {
     "data": {
      "text/html": [
       "\n",
       "            <div>\n",
       "                <p><b>SparkSession - in-memory</b></p>\n",
       "                \n",
       "        <div>\n",
       "            <p><b>SparkContext</b></p>\n",
       "\n",
       "            <p><a href=\"http://192.168.1.11:4041\">Spark UI</a></p>\n",
       "\n",
       "            <dl>\n",
       "              <dt>Version</dt>\n",
       "                <dd><code>v3.5.4</code></dd>\n",
       "              <dt>Master</dt>\n",
       "                <dd><code>local[*]</code></dd>\n",
       "              <dt>AppName</dt>\n",
       "                <dd><code>Pyspark-DF</code></dd>\n",
       "            </dl>\n",
       "        </div>\n",
       "        \n",
       "            </div>\n",
       "        "
      ],
      "text/plain": [
       "<pyspark.sql.session.SparkSession at 0x10725ffa0>"
      ]
     },
     "execution_count": 53,
     "metadata": {},
     "output_type": "execute_result"
    }
   ],
   "source": [
    "spark"
   ]
  },
  {
   "cell_type": "markdown",
   "id": "1452130a-f629-429e-86b4-4c8ded759c15",
   "metadata": {},
   "source": [
    "## About Dataset\n",
    "\n",
    "#### This dataset is related to power consumption of three different distribution networks of Tetouan city which is located in north Morocco.\n",
    "\n",
    "### Variable Name:\n",
    "\n",
    "### DateTime : Each ten minutes\n",
    "### Temperature : Weather Temperature of Tetouan city\n",
    "### Humidity : Weather Humidity of Tetouan city\n",
    "### Wind Speed : Wind speed of Tetouan city\n",
    "### general diffuse flows : general diffuse flows\n",
    "### diffuse flows : diffuse flows\n",
    "### Zone 1 : power consumption of zone 1 of Tetouan city\n",
    "### Zone 2 : power consumption of zone 2 of Tetouan city\n",
    "### Zone 3 : power consumption of zone 3 of Tetouan city"
   ]
  },
  {
   "cell_type": "code",
   "execution_count": 54,
   "id": "c3d34555-efb6-4e17-91a3-a5113f5be264",
   "metadata": {},
   "outputs": [
    {
     "name": "stdout",
     "output_type": "stream",
     "text": [
      "+----------------+-----------+--------+----------+---------------------+-------------+-----------+-----------+-----------+\n",
      "|        DateTime|Temperature|Humidity|Wind Speed|general diffuse flows|diffuse flows|     Zone 1|   Zone 2  |   Zone 3  |\n",
      "+----------------+-----------+--------+----------+---------------------+-------------+-----------+-----------+-----------+\n",
      "|01/01/2017 00:00|      6.559|    73.8|     0.083|                0.051|        0.119| 34055.6962|16128.87538|20240.96386|\n",
      "|01/01/2017 00:10|      6.414|    74.5|     0.083|                 0.07|        0.085|29814.68354|19375.07599|20131.08434|\n",
      "|01/01/2017 00:20|      6.313|    74.5|      0.08|                0.062|          0.1|29128.10127|19006.68693|19668.43373|\n",
      "|01/01/2017 00:30|      6.121|    75.0|     0.083|                0.091|        0.096|28228.86076|18361.09422|18899.27711|\n",
      "|01/01/2017 00:40|      5.921|    75.7|     0.081|                0.048|        0.085| 27335.6962|17872.34043|18442.40964|\n",
      "+----------------+-----------+--------+----------+---------------------+-------------+-----------+-----------+-----------+\n",
      "only showing top 5 rows\n",
      "\n"
     ]
    }
   ],
   "source": [
    "#If we are not using inferSchema below then by default all columns will be read as strings\n",
    "power_consume_df = spark.read.csv(\"power_consumption.csv\", header = True, inferSchema=True)\n",
    "power_consume_df.show(5)"
   ]
  },
  {
   "cell_type": "code",
   "execution_count": 55,
   "id": "c0c32a79-e024-4b47-a98b-a9f8510191fb",
   "metadata": {},
   "outputs": [
    {
     "name": "stdout",
     "output_type": "stream",
     "text": [
      "root\n",
      " |-- DateTime: string (nullable = true)\n",
      " |-- Temperature: double (nullable = true)\n",
      " |-- Humidity: double (nullable = true)\n",
      " |-- Wind Speed: double (nullable = true)\n",
      " |-- general diffuse flows: double (nullable = true)\n",
      " |-- diffuse flows: double (nullable = true)\n",
      " |-- Zone 1: double (nullable = true)\n",
      " |-- Zone 2  : double (nullable = true)\n",
      " |-- Zone 3  : double (nullable = true)\n",
      "\n"
     ]
    }
   ],
   "source": [
    "# Checking the schema\n",
    "power_consume_df.printSchema()"
   ]
  },
  {
   "cell_type": "code",
   "execution_count": 56,
   "id": "e08489eb-84e1-4438-89f1-445170e99e20",
   "metadata": {},
   "outputs": [
    {
     "data": {
      "text/plain": [
       "[('DateTime', 'string'),\n",
       " ('Temperature', 'double'),\n",
       " ('Humidity', 'double'),\n",
       " ('Wind Speed', 'double'),\n",
       " ('general diffuse flows', 'double'),\n",
       " ('diffuse flows', 'double'),\n",
       " ('Zone 1', 'double'),\n",
       " ('Zone 2  ', 'double'),\n",
       " ('Zone 3  ', 'double')]"
      ]
     },
     "execution_count": 56,
     "metadata": {},
     "output_type": "execute_result"
    }
   ],
   "source": [
    "power_consume_df.dtypes"
   ]
  },
  {
   "cell_type": "code",
   "execution_count": 57,
   "id": "830be8db-5bd9-4ad6-bb9f-646ffb1ebf80",
   "metadata": {},
   "outputs": [
    {
     "data": {
      "text/plain": [
       "pyspark.sql.dataframe.DataFrame"
      ]
     },
     "execution_count": 57,
     "metadata": {},
     "output_type": "execute_result"
    }
   ],
   "source": [
    "type(power_consume_df)"
   ]
  },
  {
   "cell_type": "code",
   "execution_count": 58,
   "id": "fba882a0-6620-4261-8c3e-e4451002268d",
   "metadata": {},
   "outputs": [
    {
     "data": {
      "text/plain": [
       "['DateTime',\n",
       " 'Temperature',\n",
       " 'Humidity',\n",
       " 'Wind Speed',\n",
       " 'general diffuse flows',\n",
       " 'diffuse flows',\n",
       " 'Zone 1',\n",
       " 'Zone 2  ',\n",
       " 'Zone 3  ']"
      ]
     },
     "execution_count": 58,
     "metadata": {},
     "output_type": "execute_result"
    }
   ],
   "source": [
    "#List all columns of dataframe\n",
    "power_consume_df.columns"
   ]
  },
  {
   "cell_type": "code",
   "execution_count": 59,
   "id": "4d14fab5-f409-47c5-915a-a695cd70cbd8",
   "metadata": {},
   "outputs": [],
   "source": [
    "#Renaming the columns\n",
    "power_consume_df = power_consume_df.withColumnRenamed(\"general diffuse flows\",\"General Diffuse Flows\") \\\n",
    ".withColumnRenamed(\"diffuse flows\",\"Diffuse Flows\") \\\n",
    ".withColumnRenamed(\"Zone 2  \",\"Zone 2\") \\\n",
    ".withColumnRenamed(\"Zone 3  \",\"Zone 3\")"
   ]
  },
  {
   "cell_type": "code",
   "execution_count": 60,
   "id": "dd37caa8-dc38-47a7-ac44-5513569b0fe2",
   "metadata": {},
   "outputs": [
    {
     "data": {
      "text/plain": [
       "'\\nFor sequential indexing:\\n\\nfrom pyspark.sql.functions import row_number\\n\\n# Define a window specification\\nwindow_spec = Window.orderBy(\"DateTime\")\\n\\n# Add sequential index using row_number\\npower_consume_df = power_consume_df.withColumn(\"index\", row_number().over(window_spec))\\n'"
      ]
     },
     "execution_count": 60,
     "metadata": {},
     "output_type": "execute_result"
    }
   ],
   "source": [
    "#Adding Index column to the data frame\n",
    "power_consume_df = power_consume_df.withColumn(\"Index\", monotonically_increasing_id())\n",
    "\n",
    "'''\n",
    "For sequential indexing:\n",
    "\n",
    "from pyspark.sql.functions import row_number\n",
    "\n",
    "# Define a window specification\n",
    "window_spec = Window.orderBy(\"DateTime\")\n",
    "\n",
    "# Add sequential index using row_number\n",
    "power_consume_df = power_consume_df.withColumn(\"index\", row_number().over(window_spec))\n",
    "'''"
   ]
  },
  {
   "cell_type": "code",
   "execution_count": 61,
   "id": "0ff263d0-7619-4f04-abed-df34d33ce59f",
   "metadata": {},
   "outputs": [],
   "source": [
    "# Re-ordering columns\n",
    "columns_order = ['Index']+[col for col in power_consume_df.columns if col!='Index' ]\n",
    "\n",
    "power_consume_df = power_consume_df.select(columns_order)"
   ]
  },
  {
   "cell_type": "code",
   "execution_count": 62,
   "id": "6962c7bf-24f3-4990-a21e-3fb6f835b7c5",
   "metadata": {},
   "outputs": [
    {
     "data": {
      "text/plain": [
       "[Row(Index=0, DateTime='01/01/2017 00:00', Temperature=6.559, Humidity=73.8, Wind Speed=0.083, General Diffuse Flows=0.051, Diffuse Flows=0.119, Zone 1=34055.6962, Zone 2=16128.87538, Zone 3=20240.96386)]"
      ]
     },
     "execution_count": 62,
     "metadata": {},
     "output_type": "execute_result"
    }
   ],
   "source": [
    "#List rows of dataframe\n",
    "power_consume_df.head(1)"
   ]
  },
  {
   "cell_type": "code",
   "execution_count": 63,
   "id": "2acc058b-20a4-42fe-ba56-a53144441939",
   "metadata": {},
   "outputs": [
    {
     "name": "stdout",
     "output_type": "stream",
     "text": [
      "+----------------+--------+-------------+-----------+\n",
      "|        DateTime|Humidity|Diffuse flows|     Zone 1|\n",
      "+----------------+--------+-------------+-----------+\n",
      "|01/01/2017 00:00|    73.8|        0.119| 34055.6962|\n",
      "|01/01/2017 00:10|    74.5|        0.085|29814.68354|\n",
      "|01/01/2017 00:20|    74.5|          0.1|29128.10127|\n",
      "|01/01/2017 00:30|    75.0|        0.096|28228.86076|\n",
      "|01/01/2017 00:40|    75.7|        0.085| 27335.6962|\n",
      "+----------------+--------+-------------+-----------+\n",
      "only showing top 5 rows\n",
      "\n"
     ]
    }
   ],
   "source": [
    "#Selecting specific columns of dataframe\n",
    "power_consume_df.select(['DateTime','Humidity','Diffuse flows','Zone 1']).show(5)"
   ]
  },
  {
   "cell_type": "code",
   "execution_count": 64,
   "id": "9a59e62d-13bf-4255-86b6-dfe48fc058bd",
   "metadata": {},
   "outputs": [
    {
     "name": "stdout",
     "output_type": "stream",
     "text": [
      "+-------+------------------+------------------+-----------------+------------------+------------------+\n",
      "|summary|       Temperature|     Diffuse Flows|           Zone 1|            Zone 2|            Zone 3|\n",
      "+-------+------------------+------------------+-----------------+------------------+------------------+\n",
      "|  count|             52416|             52417|            52416|             52416|             52417|\n",
      "|   mean|18.810023962149028| 75.02659457809085|32344.97056358616|21042.509082321798|17835.277931633376|\n",
      "| stddev| 5.815475838908468|124.21019434184817|7130.562564198581| 5201.465892178914| 6622.167063631066|\n",
      "|    min|             3.247|             0.011|       13895.6962|       8560.081466|        5935.17407|\n",
      "|    max|             40.01|             936.0|      52204.39512|       37408.86076|       47598.32636|\n",
      "+-------+------------------+------------------+-----------------+------------------+------------------+\n",
      "\n"
     ]
    }
   ],
   "source": [
    "# Describing the dataframe similar to Pandas\n",
    "power_consume_df.select([\"Temperature\",\"Diffuse Flows\",\"Zone 1\",\"Zone 2\",\"Zone 3\"]).describe().show()"
   ]
  },
  {
   "cell_type": "code",
   "execution_count": 65,
   "id": "2cde6c76-c49c-4a4e-8be3-d036f1a83bef",
   "metadata": {},
   "outputs": [],
   "source": [
    "#Adding new column to the pyspark dataframe\n",
    "power_consume_df = power_consume_df.withColumn(\"Total power consumption\",power_consume_df['Zone 1']+power_consume_df['Zone 2']+power_consume_df['Zone 3'])"
   ]
  },
  {
   "cell_type": "code",
   "execution_count": 66,
   "id": "864253a9-5619-4fee-a6e5-d289b84fa27f",
   "metadata": {},
   "outputs": [
    {
     "name": "stdout",
     "output_type": "stream",
     "text": [
      "+-----+-----------+-----------+-----------+-----------------------+\n",
      "|Index|     Zone 1|     Zone 2|     Zone 3|Total power consumption|\n",
      "+-----+-----------+-----------+-----------+-----------------------+\n",
      "|    0| 34055.6962|16128.87538|20240.96386|      70425.53543999999|\n",
      "|    1|29814.68354|19375.07599|20131.08434|      69320.84387000001|\n",
      "|    2|29128.10127|19006.68693|19668.43373|            67803.22193|\n",
      "|    3|28228.86076|18361.09422|18899.27711|      65489.23208999999|\n",
      "|    4| 27335.6962|17872.34043|18442.40964|            63650.44627|\n",
      "+-----+-----------+-----------+-----------+-----------------------+\n",
      "only showing top 5 rows\n",
      "\n"
     ]
    }
   ],
   "source": [
    "power_consume_df.select(['Index','Zone 1','Zone 2','Zone 3','Total power consumption']).show(5)"
   ]
  },
  {
   "cell_type": "code",
   "execution_count": 67,
   "id": "58aded8b-a9f5-4144-93ae-731cb71268c6",
   "metadata": {},
   "outputs": [
    {
     "name": "stdout",
     "output_type": "stream",
     "text": [
      "root\n",
      " |-- Index: long (nullable = false)\n",
      " |-- DateTime: string (nullable = true)\n",
      " |-- Temperature: double (nullable = true)\n",
      " |-- Humidity: double (nullable = true)\n",
      " |-- Wind Speed: double (nullable = true)\n",
      " |-- General Diffuse Flows: double (nullable = true)\n",
      " |-- Diffuse Flows: double (nullable = true)\n",
      " |-- Total power consumption: double (nullable = true)\n",
      "\n"
     ]
    }
   ],
   "source": [
    "#Deleting unwanted column\n",
    "power_consume_df = power_consume_df.drop('Zone 1','Zone 2','Zone 3')\n",
    "power_consume_df.printSchema()"
   ]
  },
  {
   "cell_type": "markdown",
   "id": "00018de8-38bb-4d51-a523-7944b5ec8a13",
   "metadata": {},
   "source": [
    "## Handling Missing values"
   ]
  },
  {
   "cell_type": "code",
   "execution_count": 68,
   "id": "d522d895-da27-498c-9db1-fb5051c50586",
   "metadata": {},
   "outputs": [
    {
     "data": {
      "text/plain": [
       "52417"
      ]
     },
     "execution_count": 68,
     "metadata": {},
     "output_type": "execute_result"
    }
   ],
   "source": [
    "power_consume_df.count()"
   ]
  },
  {
   "cell_type": "code",
   "execution_count": 69,
   "id": "ec0954d2-a3ff-481b-b658-561460a59d59",
   "metadata": {},
   "outputs": [
    {
     "data": {
      "text/plain": [
       "52416"
      ]
     },
     "execution_count": 69,
     "metadata": {},
     "output_type": "execute_result"
    }
   ],
   "source": [
    "power_consume_df.na.drop().count()"
   ]
  },
  {
   "cell_type": "code",
   "execution_count": 70,
   "id": "9550cc0d-f979-45af-a23e-2fde93aa539f",
   "metadata": {},
   "outputs": [
    {
     "data": {
      "text/plain": [
       "52417"
      ]
     },
     "execution_count": 70,
     "metadata": {},
     "output_type": "execute_result"
    }
   ],
   "source": [
    "## drop how== any or how==all\n",
    "\n",
    "#For the row, all columns values should be null, then only row will be dropped\n",
    "power_consume_df.na.drop(how=\"all\").count() \n",
    "\n",
    "## power_consume_df.na.drop(how=\"any\").count() ## default one"
   ]
  },
  {
   "cell_type": "code",
   "execution_count": 71,
   "id": "3580d3d1-ce0c-4e17-ac6b-de33351311cc",
   "metadata": {},
   "outputs": [
    {
     "data": {
      "text/plain": [
       "52416"
      ]
     },
     "execution_count": 71,
     "metadata": {},
     "output_type": "execute_result"
    }
   ],
   "source": [
    "# If row is crossing the threshold of missing values then the row will be dropped\n",
    "power_consume_df.na.drop(how=\"any\",thresh=4).count()"
   ]
  },
  {
   "cell_type": "code",
   "execution_count": 72,
   "id": "0cc8fb54-23e5-4b4a-8102-c7bb68dc876a",
   "metadata": {},
   "outputs": [
    {
     "data": {
      "text/plain": [
       "52416"
      ]
     },
     "execution_count": 72,
     "metadata": {},
     "output_type": "execute_result"
    }
   ],
   "source": [
    "# usage of Subset in drop\n",
    "power_consume_df.na.drop(how=\"any\",subset=['Wind speed']).count()"
   ]
  },
  {
   "cell_type": "code",
   "execution_count": 73,
   "id": "4ae0d9cb-0d8b-4129-a4d7-3b3dfd786caf",
   "metadata": {},
   "outputs": [
    {
     "data": {
      "text/plain": [
       "[Row(Index=8589935416, DateTime='12/30/2017 23:50', Temperature=0.0, Humidity=0.0, Wind Speed=None, General Diffuse Flows=None, Diffuse Flows=0.211, Total power consumption=None)]"
      ]
     },
     "execution_count": 73,
     "metadata": {},
     "output_type": "execute_result"
    }
   ],
   "source": [
    "power_consume_df.na.fill(0,['Temperature','Humidity']).tail(1)"
   ]
  },
  {
   "cell_type": "code",
   "execution_count": 74,
   "id": "fb6ee5be-da1d-4018-98a7-ccf64c66562f",
   "metadata": {},
   "outputs": [],
   "source": [
    "# Fill null values with mean values\n",
    "# Compute the mean using agg()\n",
    "mean_temp = power_consume_df.agg(mean(\"Temperature\").alias(\"mean_temperature\")).first()[\"mean_temperature\"]\n",
    "mean_hum = power_consume_df.agg(mean(\"Humidity\").alias(\"mean_humidity\")).first()[\"mean_humidity\"]\n",
    "mean_wspeed = power_consume_df.agg(mean(\"Wind Speed\").alias(\"mean_wspeed\")).first()[\"mean_wspeed\"]\n",
    "mean_gdflow = power_consume_df.agg(mean(\"General Diffuse Flows\").alias(\"mean_gdflow\")).first()[\"mean_gdflow\"]\n",
    "mean_tpc = power_consume_df.agg(mean(\"Total power consumption\").alias(\"mean_tpc\")).first()[\"mean_tpc\"]"
   ]
  },
  {
   "cell_type": "code",
   "execution_count": 80,
   "id": "310df51f-4e6d-492a-9683-0694257eb0de",
   "metadata": {},
   "outputs": [
    {
     "data": {
      "text/plain": [
       "[Row(Index=8589935416, DateTime='12/30/2017 23:50', Temperature=18.810023962149028, Humidity=68.25951846764373, Wind Speed=1.9594888583639225, General Diffuse Flows=182.69661376298254, Diffuse Flows=0.211, Total power consumption=71222.88586428417)]"
      ]
     },
     "execution_count": 80,
     "metadata": {},
     "output_type": "execute_result"
    }
   ],
   "source": [
    "# Replacing Null values with mean value\n",
    "power_consume_df = power_consume_df.fillna({\"Temperature\": mean_temp, \"Humidity\": mean_hum, \\\n",
    "                         \"Wind Speed\": mean_wspeed, \"General Diffuse Flows\": mean_gdflow, \\\n",
    "                         \"Total power consumption\": mean_tpc})\n",
    "power_consume_df.tail(1)"
   ]
  },
  {
   "cell_type": "code",
   "execution_count": 79,
   "id": "33527ae3-6b14-4b77-b18d-79686a3718e4",
   "metadata": {},
   "outputs": [
    {
     "data": {
      "text/plain": [
       "52417"
      ]
     },
     "execution_count": 79,
     "metadata": {},
     "output_type": "execute_result"
    }
   ],
   "source": [
    "power_consume_df.na.drop().count()"
   ]
  },
  {
   "cell_type": "markdown",
   "id": "1e0d5ea2-ca9b-4daf-bd0f-0902a3ee8c97",
   "metadata": {},
   "source": [
    "## Filter operations"
   ]
  },
  {
   "cell_type": "code",
   "execution_count": 103,
   "id": "abcd6214-035c-4263-bb48-9e77e49496fc",
   "metadata": {},
   "outputs": [
    {
     "name": "stdout",
     "output_type": "stream",
     "text": [
      "+-----+---------------+-----------+--------+----------+---------------------+-------------+-----------------------+\n",
      "|Index|       DateTime|Temperature|Humidity|Wind Speed|General Diffuse Flows|Diffuse Flows|Total power consumption|\n",
      "+-----+---------------+-----------+--------+----------+---------------------+-------------+-----------------------+\n",
      "|29034|7/21/2017 15:00|      40.01|   14.54|      0.07|                798.0|         85.4|      94051.40112000001|\n",
      "+-----+---------------+-----------+--------+----------+---------------------+-------------+-----------------------+\n",
      "\n"
     ]
    }
   ],
   "source": [
    "power_consume_df.filter(\"Temperature>40\").show()"
   ]
  },
  {
   "cell_type": "code",
   "execution_count": 107,
   "id": "79a89b74-34cb-4a41-883c-658ac24b31f2",
   "metadata": {},
   "outputs": [
    {
     "name": "stdout",
     "output_type": "stream",
     "text": [
      "+-----+----------------+-----------+--------+----------+---------------------+-------------+-----------------------+\n",
      "|Index|        DateTime|Temperature|Humidity|Wind Speed|General Diffuse Flows|Diffuse Flows|Total power consumption|\n",
      "+-----+----------------+-----------+--------+----------+---------------------+-------------+-----------------------+\n",
      "|   62|01/01/2017 10:20|      5.996|   69.85|      4.93|                282.7|        31.96|            57125.30575|\n",
      "|   63|01/01/2017 10:30|       6.22|   68.81|     4.924|                307.0|        32.42|            58220.10518|\n",
      "|   64|01/01/2017 10:40|      6.703|   68.01|     4.923|                327.6|        33.22|             59553.8367|\n",
      "|   65|01/01/2017 10:50|      6.993|   66.14|     4.918|                349.6|        33.41|            60558.95241|\n",
      "|   66|01/01/2017 11:00|       7.54|   64.21|     4.916|                371.1|        33.43|     61813.860790000006|\n",
      "|   67|01/01/2017 11:10|       8.22|    61.9|     4.916|                388.2|        33.89|            62338.32489|\n",
      "|  800|01/06/2017 13:20|      15.38|   66.11|     4.708|                244.2|        234.6|            71650.33965|\n",
      "| 2773|  1/20/2017 6:10|      10.73|   56.13|     4.917|                0.066|        0.115|     54742.979340000005|\n",
      "| 2774|  1/20/2017 6:20|      11.12|   54.59|     4.918|                0.073|        0.093|     54432.780399999996|\n",
      "| 2775|  1/20/2017 6:30|      11.18|   53.72|     4.917|                0.055|        0.078|             54697.2089|\n",
      "| 2776|  1/20/2017 6:40|      11.42|   53.26|     4.916|                0.077|        0.134|            55113.11039|\n",
      "| 2777|  1/20/2017 6:50|       11.4|   53.36|     4.914|                0.062|        0.152|            54497.62508|\n",
      "| 2778|  1/20/2017 7:00|      11.52|   52.92|     4.923|                0.044|        0.093|            53470.90623|\n",
      "| 2779|  1/20/2017 7:10|      11.58|   52.75|     4.918|                0.059|        0.093|     53426.883350000004|\n",
      "| 2780|  1/20/2017 7:20|      11.64|   52.45|     4.915|                0.066|        0.122|            52547.31064|\n",
      "| 2781|  1/20/2017 7:30|      11.69|   51.99|     4.916|                0.044|        0.141|            51532.44876|\n",
      "| 2782|  1/20/2017 7:40|      11.72|   51.92|     4.915|                0.059|        0.111|     50618.912840000005|\n",
      "| 2793|  1/20/2017 9:30|      12.07|   51.25|     4.913|                117.0|        116.3|             62176.6702|\n",
      "| 2794|  1/20/2017 9:40|      12.15|   51.49|     4.916|                 92.2|         89.9|            63332.07705|\n",
      "| 2795|  1/20/2017 9:50|      12.14|   52.05|     4.918|                132.5|        132.4|            64387.77474|\n",
      "+-----+----------------+-----------+--------+----------+---------------------+-------------+-----------------------+\n",
      "only showing top 20 rows\n",
      "\n"
     ]
    }
   ],
   "source": [
    "power_consume_df.filter(\"`Wind Speed`>4\").show()"
   ]
  },
  {
   "cell_type": "code",
   "execution_count": 108,
   "id": "d3e13191-bd8a-4fe2-a851-4a94db9a0053",
   "metadata": {},
   "outputs": [
    {
     "name": "stdout",
     "output_type": "stream",
     "text": [
      "+----------------+----------+-----------------------+\n",
      "|        DateTime|Wind Speed|Total power consumption|\n",
      "+----------------+----------+-----------------------+\n",
      "|01/01/2017 10:20|      4.93|            57125.30575|\n",
      "|01/01/2017 10:30|     4.924|            58220.10518|\n",
      "|01/01/2017 10:40|     4.923|             59553.8367|\n",
      "|01/01/2017 10:50|     4.918|            60558.95241|\n",
      "|01/01/2017 11:00|     4.916|     61813.860790000006|\n",
      "|01/01/2017 11:10|     4.916|            62338.32489|\n",
      "|01/06/2017 13:20|     4.708|            71650.33965|\n",
      "|  1/20/2017 6:10|     4.917|     54742.979340000005|\n",
      "|  1/20/2017 6:20|     4.918|     54432.780399999996|\n",
      "|  1/20/2017 6:30|     4.917|             54697.2089|\n",
      "|  1/20/2017 6:40|     4.916|            55113.11039|\n",
      "|  1/20/2017 6:50|     4.914|            54497.62508|\n",
      "|  1/20/2017 7:00|     4.923|            53470.90623|\n",
      "|  1/20/2017 7:10|     4.918|     53426.883350000004|\n",
      "|  1/20/2017 7:20|     4.915|            52547.31064|\n",
      "|  1/20/2017 7:30|     4.916|            51532.44876|\n",
      "|  1/20/2017 7:40|     4.915|     50618.912840000005|\n",
      "|  1/20/2017 9:30|     4.913|             62176.6702|\n",
      "|  1/20/2017 9:40|     4.916|            63332.07705|\n",
      "|  1/20/2017 9:50|     4.918|            64387.77474|\n",
      "+----------------+----------+-----------------------+\n",
      "only showing top 20 rows\n",
      "\n"
     ]
    }
   ],
   "source": [
    "power_consume_df.filter(\"`Wind Speed`>4\").select(['DateTime','Wind Speed','Total power consumption']).show()"
   ]
  },
  {
   "cell_type": "code",
   "execution_count": 111,
   "id": "50f1fcd8-ce78-423b-ad5b-39e1b604ade7",
   "metadata": {},
   "outputs": [
    {
     "name": "stdout",
     "output_type": "stream",
     "text": [
      "+-----+----------------+-----------+--------+----------+---------------------+-------------+-----------------------+\n",
      "|Index|        DateTime|Temperature|Humidity|Wind Speed|General Diffuse Flows|Diffuse Flows|Total power consumption|\n",
      "+-----+----------------+-----------+--------+----------+---------------------+-------------+-----------------------+\n",
      "|   62|01/01/2017 10:20|      5.996|   69.85|      4.93|                282.7|        31.96|            57125.30575|\n",
      "|   63|01/01/2017 10:30|       6.22|   68.81|     4.924|                307.0|        32.42|            58220.10518|\n",
      "|   64|01/01/2017 10:40|      6.703|   68.01|     4.923|                327.6|        33.22|             59553.8367|\n",
      "|   65|01/01/2017 10:50|      6.993|   66.14|     4.918|                349.6|        33.41|            60558.95241|\n",
      "|   66|01/01/2017 11:00|       7.54|   64.21|     4.916|                371.1|        33.43|     61813.860790000006|\n",
      "|   67|01/01/2017 11:10|       8.22|    61.9|     4.916|                388.2|        33.89|            62338.32489|\n",
      "|  800|01/06/2017 13:20|      15.38|   66.11|     4.708|                244.2|        234.6|            71650.33965|\n",
      "| 2773|  1/20/2017 6:10|      10.73|   56.13|     4.917|                0.066|        0.115|     54742.979340000005|\n",
      "| 2774|  1/20/2017 6:20|      11.12|   54.59|     4.918|                0.073|        0.093|     54432.780399999996|\n",
      "| 2775|  1/20/2017 6:30|      11.18|   53.72|     4.917|                0.055|        0.078|             54697.2089|\n",
      "| 2776|  1/20/2017 6:40|      11.42|   53.26|     4.916|                0.077|        0.134|            55113.11039|\n",
      "| 2777|  1/20/2017 6:50|       11.4|   53.36|     4.914|                0.062|        0.152|            54497.62508|\n",
      "| 2778|  1/20/2017 7:00|      11.52|   52.92|     4.923|                0.044|        0.093|            53470.90623|\n",
      "| 2779|  1/20/2017 7:10|      11.58|   52.75|     4.918|                0.059|        0.093|     53426.883350000004|\n",
      "| 2780|  1/20/2017 7:20|      11.64|   52.45|     4.915|                0.066|        0.122|            52547.31064|\n",
      "| 2781|  1/20/2017 7:30|      11.69|   51.99|     4.916|                0.044|        0.141|            51532.44876|\n",
      "| 2782|  1/20/2017 7:40|      11.72|   51.92|     4.915|                0.059|        0.111|     50618.912840000005|\n",
      "| 2793|  1/20/2017 9:30|      12.07|   51.25|     4.913|                117.0|        116.3|             62176.6702|\n",
      "| 2794|  1/20/2017 9:40|      12.15|   51.49|     4.916|                 92.2|         89.9|            63332.07705|\n",
      "| 2795|  1/20/2017 9:50|      12.14|   52.05|     4.918|                132.5|        132.4|            64387.77474|\n",
      "+-----+----------------+-----------+--------+----------+---------------------+-------------+-----------------------+\n",
      "only showing top 20 rows\n",
      "\n"
     ]
    }
   ],
   "source": [
    "# Filter condition with or operation\n",
    "power_consume_df.filter((power_consume_df['Temperature']>40) | (power_consume_df['Wind Speed']>4)).show()"
   ]
  },
  {
   "cell_type": "code",
   "execution_count": 114,
   "id": "ca5c4512-5b11-42b9-9654-fe3e0da34eca",
   "metadata": {},
   "outputs": [
    {
     "name": "stdout",
     "output_type": "stream",
     "text": [
      "+-----+---------------+-----------+--------+----------+---------------------+-------------+-----------------------+\n",
      "|Index|       DateTime|Temperature|Humidity|Wind Speed|General Diffuse Flows|Diffuse Flows|Total power consumption|\n",
      "+-----+---------------+-----------+--------+----------+---------------------+-------------+-----------------------+\n",
      "|29034|7/21/2017 15:00|      40.01|   14.54|      0.07|                798.0|         85.4|      94051.40112000001|\n",
      "+-----+---------------+-----------+--------+----------+---------------------+-------------+-----------------------+\n",
      "\n"
     ]
    }
   ],
   "source": [
    "# filter condition with and operation\n",
    "power_consume_df.filter((power_consume_df['Temperature']>=40) & (power_consume_df['Wind Speed']>=0)).show()"
   ]
  },
  {
   "cell_type": "code",
   "execution_count": 122,
   "id": "6c94fa88-df0f-4b07-af6a-6a0bd0fd8560",
   "metadata": {},
   "outputs": [
    {
     "name": "stdout",
     "output_type": "stream",
     "text": [
      "+----------------+----------+-----------------------+\n",
      "|        DateTime|Wind Speed|Total power consumption|\n",
      "+----------------+----------+-----------------------+\n",
      "|04/08/2017 10:00|     0.058|            68446.70147|\n",
      "|04/08/2017 10:10|     0.057|      69104.12329999999|\n",
      "|04/08/2017 10:20|     0.053|            70349.10411|\n",
      "| 4/29/2017 19:40|     0.058|      96610.44357999999|\n",
      "| 4/29/2017 21:10|     0.059|            93901.35606|\n",
      "+----------------+----------+-----------------------+\n",
      "only showing top 5 rows\n",
      "\n"
     ]
    }
   ],
   "source": [
    "# filter condition with Not operation\n",
    "power_consume_df.filter(~(power_consume_df['Wind Speed']>=0.06)).select(['DateTime','Wind Speed','Total power consumption']).show(5)"
   ]
  },
  {
   "cell_type": "markdown",
   "id": "9fa8ceb0-a61e-4cac-b0ca-cbfbe1e5e8fc",
   "metadata": {},
   "source": [
    "## GroupBy and Aggregate functions"
   ]
  },
  {
   "cell_type": "code",
   "execution_count": 151,
   "id": "b2235fe3-ee3a-4e9b-b410-f05ebb400fde",
   "metadata": {},
   "outputs": [
    {
     "name": "stdout",
     "output_type": "stream",
     "text": [
      "+-----+----------+----------------+-----------+\n",
      "|Index|      Date|        DateTime|Temperature|\n",
      "+-----+----------+----------------+-----------+\n",
      "|    0|2017-01-01|01/01/2017 00:00|      6.559|\n",
      "|    1|2017-01-01|01/01/2017 00:10|      6.414|\n",
      "+-----+----------+----------------+-----------+\n",
      "only showing top 2 rows\n",
      "\n"
     ]
    }
   ],
   "source": [
    "# Convert the DateTime string to date only (extract date)\n",
    "#df_with_date = power_consume_df.withColumn(\"Date\", to_date(col(\"DateTime\"), \"MM/dd/yyyy HH:mm\"))\n",
    "#df_with_date.select(['Index','DateTime','Temperature']).show(2)\n",
    "#del df_with_date\n",
    "\n",
    "power_consume_df = power_consume_df.withColumn(\"Date\", to_date(col(\"DateTime\"), \"MM/dd/yyyy HH:mm\"))\n",
    "power_consume_df.select(['Index','Date','DateTime','Temperature']).show(2)"
   ]
  },
  {
   "cell_type": "code",
   "execution_count": 153,
   "id": "a9fd6264-d792-4427-9f49-c66f9363db14",
   "metadata": {},
   "outputs": [],
   "source": [
    "#spark.conf.set(\"spark.sql.legacy.timeParserPolicy\", \"LEGACY\")"
   ]
  },
  {
   "cell_type": "code",
   "execution_count": 156,
   "id": "f505dd5d-4ca6-4f98-80bc-146405be0405",
   "metadata": {},
   "outputs": [
    {
     "name": "stdout",
     "output_type": "stream",
     "text": [
      "+----------+----------------------------+\n",
      "|      Date|sum(Total power consumption)|\n",
      "+----------+----------------------------+\n",
      "|2017-08-11|        1.2848104319480004E7|\n",
      "|2017-09-11|        1.0002833790764997E7|\n",
      "|2017-01-06|               9839964.61365|\n",
      "|2017-01-27|        1.0110594112469997E7|\n",
      "|2017-02-26|           9259658.997878002|\n",
      "|2017-09-28|        1.0143342140150003E7|\n",
      "|2017-01-24|           9969140.384879995|\n",
      "|2017-06-29|        1.0773404923849994E7|\n",
      "|2017-09-29|           9964752.171531996|\n",
      "|2017-02-16|           9945513.795460006|\n",
      "|2017-07-31|        1.3495833568249997E7|\n",
      "|2017-08-14|            1.241407166163E7|\n",
      "|2017-08-18|        1.2853806430820003E7|\n",
      "|2017-10-23|           9741455.553555999|\n",
      "|2017-12-02|           8655025.729212001|\n",
      "|2017-04-09|           9158089.713423997|\n",
      "|2017-12-25|           9464500.883191997|\n",
      "|2017-02-28|               9664520.51121|\n",
      "|2017-03-28|               9542848.38802|\n",
      "|2017-09-21|               9847875.17363|\n",
      "+----------+----------------------------+\n",
      "only showing top 20 rows\n",
      "\n"
     ]
    }
   ],
   "source": [
    "# showing the data of total power consumption based on date\n",
    "power_consume_df.groupBy(\"Date\").sum(\"Total power consumption\").show()"
   ]
  },
  {
   "cell_type": "code",
   "execution_count": 158,
   "id": "2e9f38a3-74f4-4a5d-a6f2-5234bf441f88",
   "metadata": {},
   "outputs": [
    {
     "name": "stdout",
     "output_type": "stream",
     "text": [
      "+----------+----------------------------+\n",
      "|      Date|avg(Total power consumption)|\n",
      "+----------+----------------------------+\n",
      "|2017-08-11|           89222.94666305558|\n",
      "|2017-09-11|           69464.12354697914|\n",
      "|2017-01-06|           68333.08759479166|\n",
      "|2017-01-27|           70212.45911437499|\n",
      "|2017-02-26|            64303.1874852639|\n",
      "|2017-09-28|           70439.87597326392|\n",
      "|2017-01-24|           69230.14156166663|\n",
      "|2017-06-29|           74815.31197118052|\n",
      "|2017-09-29|           69199.66785786109|\n",
      "|2017-02-16|           69066.06802402782|\n",
      "|2017-07-31|           93721.06644618053|\n",
      "|2017-08-14|           86208.83098354167|\n",
      "|2017-08-18|           89262.54465847224|\n",
      "|2017-10-23|           67648.99689969444|\n",
      "|2017-12-02|          60104.345341750006|\n",
      "|2017-04-09|           63597.84523211109|\n",
      "|2017-12-25|           65725.70057772221|\n",
      "|2017-02-28|           67114.72577229167|\n",
      "|2017-03-28|            66269.7804723611|\n",
      "|2017-09-21|           68388.02203909721|\n",
      "+----------+----------------------------+\n",
      "only showing top 20 rows\n",
      "\n"
     ]
    }
   ],
   "source": [
    "# showing the average of total power consumption based on date\n",
    "power_consume_df.groupBy(\"Date\").mean(\"Total power consumption\").show()"
   ]
  },
  {
   "cell_type": "code",
   "execution_count": 161,
   "id": "69782b8c-79e0-4131-9c26-a8dce825c993",
   "metadata": {},
   "outputs": [
    {
     "name": "stdout",
     "output_type": "stream",
     "text": [
      "+-----------+-----+\n",
      "|Temperature|count|\n",
      "+-----------+-----+\n",
      "|      10.65|   15|\n",
      "|      4.917|    1|\n",
      "|      3.681|    1|\n",
      "|       14.9|   33|\n",
      "|       8.51|   12|\n",
      "|       9.13|   11|\n",
      "|      12.32|   21|\n",
      "|       13.4|   33|\n",
      "|      17.95|   30|\n",
      "|      17.56|   27|\n",
      "|       15.5|   18|\n",
      "|      17.52|   22|\n",
      "|      23.04|   24|\n",
      "|      19.98|   34|\n",
      "|      26.72|   15|\n",
      "|       26.7|   18|\n",
      "|      30.49|    5|\n",
      "|      35.17|    1|\n",
      "|       15.4|   26|\n",
      "|      16.75|   38|\n",
      "+-----------+-----+\n",
      "only showing top 20 rows\n",
      "\n"
     ]
    }
   ],
   "source": [
    "# showing the average of total power consumption based on date\n",
    "power_consume_df.groupBy(\"Temperature\").count().show()"
   ]
  },
  {
   "cell_type": "code",
   "execution_count": 163,
   "id": "6bb0a7f3-4793-4626-b749-969310e24e57",
   "metadata": {},
   "outputs": [
    {
     "name": "stdout",
     "output_type": "stream",
     "text": [
      "+----------------------------+\n",
      "|avg(Total power consumption)|\n",
      "+----------------------------+\n",
      "|           71222.88586428417|\n",
      "+----------------------------+\n",
      "\n"
     ]
    }
   ],
   "source": [
    "power_consume_df.agg({\"Total power consumption\":\"mean\"}).show()"
   ]
  },
  {
   "cell_type": "code",
   "execution_count": 165,
   "id": "e842bd55-9a03-4639-bf00-2fc423d880a8",
   "metadata": {},
   "outputs": [
    {
     "name": "stdout",
     "output_type": "stream",
     "text": [
      "+-----------+----------------------------+\n",
      "|Temperature|min(Total power consumption)|\n",
      "+-----------+----------------------------+\n",
      "|      10.65|          46376.578420000005|\n",
      "|      4.917|                 54121.87833|\n",
      "|      3.681|          51626.732780000006|\n",
      "|       14.9|          40261.433582000005|\n",
      "|       8.51|           45998.82797300001|\n",
      "|       9.13|                 46051.37935|\n",
      "|      12.32|                  42504.5549|\n",
      "|       13.4|                 48382.66485|\n",
      "|      17.95|                 43940.77385|\n",
      "|      17.56|                 46909.80901|\n",
      "|       15.5|                49809.499618|\n",
      "|      17.52|           49507.34366300001|\n",
      "|      23.04|                 53204.56939|\n",
      "|      19.98|                 42391.51917|\n",
      "|      26.72|                 64252.93414|\n",
      "|       26.7|                 68236.78355|\n",
      "|      30.49|           97792.96624000001|\n",
      "|      35.17|                 99269.91935|\n",
      "|       15.4|                 38841.52845|\n",
      "|      16.75|          41078.848118999995|\n",
      "+-----------+----------------------------+\n",
      "only showing top 20 rows\n",
      "\n"
     ]
    }
   ],
   "source": [
    "power_consume_df.groupBy(\"Temperature\").min(\"Total power consumption\").show()"
   ]
  },
  {
   "cell_type": "code",
   "execution_count": 166,
   "id": "f8220ecc-af17-4e60-be34-5277b312ee0b",
   "metadata": {},
   "outputs": [
    {
     "name": "stdout",
     "output_type": "stream",
     "text": [
      "+-----------+----------------------------+\n",
      "|Temperature|max(Total power consumption)|\n",
      "+-----------+----------------------------+\n",
      "|      10.65|           91501.23148000002|\n",
      "|      4.917|                 54121.87833|\n",
      "|      3.681|          51626.732780000006|\n",
      "|       14.9|                  94563.4659|\n",
      "|       8.51|                  77609.2501|\n",
      "|       9.13|                 71105.22051|\n",
      "|      12.32|           98380.32831000001|\n",
      "|       13.4|                 94711.46412|\n",
      "|      17.95|                101016.03083|\n",
      "|      17.56|           92848.35106999999|\n",
      "|       15.5|                 93721.00999|\n",
      "|      17.52|                 96310.31974|\n",
      "|      23.04|                 93738.36103|\n",
      "|      19.98|                 88705.29548|\n",
      "|      26.72|          121382.31991999998|\n",
      "|       26.7|          124074.15114999999|\n",
      "|      30.49|          122461.40011000002|\n",
      "|      35.17|                 99269.91935|\n",
      "|       15.4|                 93041.08353|\n",
      "|      16.75|                 94017.12197|\n",
      "+-----------+----------------------------+\n",
      "only showing top 20 rows\n",
      "\n"
     ]
    }
   ],
   "source": [
    "power_consume_df.groupBy(\"Temperature\").max(\"Total power consumption\").show()"
   ]
  },
  {
   "cell_type": "code",
   "execution_count": null,
   "id": "57282e53-f49d-48c6-a79d-edcc9b412d93",
   "metadata": {},
   "outputs": [],
   "source": []
  }
 ],
 "metadata": {
  "kernelspec": {
   "display_name": "Python 3 (ipykernel)",
   "language": "python",
   "name": "python3"
  },
  "language_info": {
   "codemirror_mode": {
    "name": "ipython",
    "version": 3
   },
   "file_extension": ".py",
   "mimetype": "text/x-python",
   "name": "python",
   "nbconvert_exporter": "python",
   "pygments_lexer": "ipython3",
   "version": "3.10.0"
  }
 },
 "nbformat": 4,
 "nbformat_minor": 5
}
